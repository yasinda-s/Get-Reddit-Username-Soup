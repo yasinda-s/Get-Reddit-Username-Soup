{
 "cells": [
  {
   "cell_type": "code",
   "execution_count": 3,
   "id": "e1b9de60",
   "metadata": {},
   "outputs": [],
   "source": [
    "import requests\n",
    "from bs4 import BeautifulSoup"
   ]
  },
  {
   "cell_type": "code",
   "execution_count": 57,
   "id": "3661f59b",
   "metadata": {},
   "outputs": [],
   "source": [
    "def returnAuthorName(URL_link):\n",
    "    page = requests.get(URL_link)\n",
    "    page_text = page.text\n",
    "    soup = BeautifulSoup(page_text, 'html.parser')\n",
    "    return soup.find_all(\"shreddit-post\")[0]['author']"
   ]
  },
  {
   "cell_type": "code",
   "execution_count": 58,
   "id": "2d60c29c",
   "metadata": {
    "scrolled": true
   },
   "outputs": [
    {
     "data": {
      "text/plain": [
       "'AyAan2022'"
      ]
     },
     "execution_count": 58,
     "metadata": {},
     "output_type": "execute_result"
    }
   ],
   "source": [
    "returnAuthorName(\"https://www.reddit.com/r/wholesomememes/comments/15ropqk/bartenders_know_things/\")"
   ]
  },
  {
   "cell_type": "code",
   "execution_count": null,
   "id": "68985f5e",
   "metadata": {},
   "outputs": [],
   "source": []
  }
 ],
 "metadata": {
  "kernelspec": {
   "display_name": "Python 3 (ipykernel)",
   "language": "python",
   "name": "python3"
  },
  "language_info": {
   "codemirror_mode": {
    "name": "ipython",
    "version": 3
   },
   "file_extension": ".py",
   "mimetype": "text/x-python",
   "name": "python",
   "nbconvert_exporter": "python",
   "pygments_lexer": "ipython3",
   "version": "3.11.4"
  }
 },
 "nbformat": 4,
 "nbformat_minor": 5
}
